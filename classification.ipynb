{
 "cells": [
  {
   "cell_type": "code",
   "execution_count": 109,
   "metadata": {},
   "outputs": [],
   "source": [
    "import pandas as pd\n",
    "import numpy as np\n",
    "import seaborn as sns\n",
    "import matplotlib.pyplot as plt\n"
   ]
  },
  {
   "cell_type": "code",
   "execution_count": 110,
   "metadata": {},
   "outputs": [
    {
     "data": {
      "text/html": [
       "<div>\n",
       "<style scoped>\n",
       "    .dataframe tbody tr th:only-of-type {\n",
       "        vertical-align: middle;\n",
       "    }\n",
       "\n",
       "    .dataframe tbody tr th {\n",
       "        vertical-align: top;\n",
       "    }\n",
       "\n",
       "    .dataframe thead th {\n",
       "        text-align: right;\n",
       "    }\n",
       "</style>\n",
       "<table border=\"1\" class=\"dataframe\">\n",
       "  <thead>\n",
       "    <tr style=\"text-align: right;\">\n",
       "      <th></th>\n",
       "      <th>male</th>\n",
       "      <th>age</th>\n",
       "      <th>education</th>\n",
       "      <th>currentSmoker</th>\n",
       "      <th>cigsPerDay</th>\n",
       "      <th>BPMeds</th>\n",
       "      <th>prevalentStroke</th>\n",
       "      <th>prevalentHyp</th>\n",
       "      <th>diabetes</th>\n",
       "      <th>totChol</th>\n",
       "      <th>sysBP</th>\n",
       "      <th>diaBP</th>\n",
       "      <th>BMI</th>\n",
       "      <th>heartRate</th>\n",
       "      <th>glucose</th>\n",
       "      <th>TenYearCHD</th>\n",
       "    </tr>\n",
       "  </thead>\n",
       "  <tbody>\n",
       "    <tr>\n",
       "      <th>0</th>\n",
       "      <td>1</td>\n",
       "      <td>39</td>\n",
       "      <td>4.0</td>\n",
       "      <td>0</td>\n",
       "      <td>0.0</td>\n",
       "      <td>0.0</td>\n",
       "      <td>0</td>\n",
       "      <td>0</td>\n",
       "      <td>0</td>\n",
       "      <td>195.0</td>\n",
       "      <td>106.0</td>\n",
       "      <td>70.0</td>\n",
       "      <td>26.97</td>\n",
       "      <td>80.0</td>\n",
       "      <td>77.0</td>\n",
       "      <td>0</td>\n",
       "    </tr>\n",
       "    <tr>\n",
       "      <th>1</th>\n",
       "      <td>0</td>\n",
       "      <td>46</td>\n",
       "      <td>2.0</td>\n",
       "      <td>0</td>\n",
       "      <td>0.0</td>\n",
       "      <td>0.0</td>\n",
       "      <td>0</td>\n",
       "      <td>0</td>\n",
       "      <td>0</td>\n",
       "      <td>250.0</td>\n",
       "      <td>121.0</td>\n",
       "      <td>81.0</td>\n",
       "      <td>28.73</td>\n",
       "      <td>95.0</td>\n",
       "      <td>76.0</td>\n",
       "      <td>0</td>\n",
       "    </tr>\n",
       "    <tr>\n",
       "      <th>2</th>\n",
       "      <td>1</td>\n",
       "      <td>48</td>\n",
       "      <td>1.0</td>\n",
       "      <td>1</td>\n",
       "      <td>20.0</td>\n",
       "      <td>0.0</td>\n",
       "      <td>0</td>\n",
       "      <td>0</td>\n",
       "      <td>0</td>\n",
       "      <td>245.0</td>\n",
       "      <td>127.5</td>\n",
       "      <td>80.0</td>\n",
       "      <td>25.34</td>\n",
       "      <td>75.0</td>\n",
       "      <td>70.0</td>\n",
       "      <td>0</td>\n",
       "    </tr>\n",
       "    <tr>\n",
       "      <th>3</th>\n",
       "      <td>0</td>\n",
       "      <td>61</td>\n",
       "      <td>3.0</td>\n",
       "      <td>1</td>\n",
       "      <td>30.0</td>\n",
       "      <td>0.0</td>\n",
       "      <td>0</td>\n",
       "      <td>1</td>\n",
       "      <td>0</td>\n",
       "      <td>225.0</td>\n",
       "      <td>150.0</td>\n",
       "      <td>95.0</td>\n",
       "      <td>28.58</td>\n",
       "      <td>65.0</td>\n",
       "      <td>103.0</td>\n",
       "      <td>1</td>\n",
       "    </tr>\n",
       "    <tr>\n",
       "      <th>4</th>\n",
       "      <td>0</td>\n",
       "      <td>46</td>\n",
       "      <td>3.0</td>\n",
       "      <td>1</td>\n",
       "      <td>23.0</td>\n",
       "      <td>0.0</td>\n",
       "      <td>0</td>\n",
       "      <td>0</td>\n",
       "      <td>0</td>\n",
       "      <td>285.0</td>\n",
       "      <td>130.0</td>\n",
       "      <td>84.0</td>\n",
       "      <td>23.10</td>\n",
       "      <td>85.0</td>\n",
       "      <td>85.0</td>\n",
       "      <td>0</td>\n",
       "    </tr>\n",
       "  </tbody>\n",
       "</table>\n",
       "</div>"
      ],
      "text/plain": [
       "   male  age  education  currentSmoker  cigsPerDay  BPMeds  prevalentStroke  \\\n",
       "0     1   39        4.0              0         0.0     0.0                0   \n",
       "1     0   46        2.0              0         0.0     0.0                0   \n",
       "2     1   48        1.0              1        20.0     0.0                0   \n",
       "3     0   61        3.0              1        30.0     0.0                0   \n",
       "4     0   46        3.0              1        23.0     0.0                0   \n",
       "\n",
       "   prevalentHyp  diabetes  totChol  sysBP  diaBP    BMI  heartRate  glucose  \\\n",
       "0             0         0    195.0  106.0   70.0  26.97       80.0     77.0   \n",
       "1             0         0    250.0  121.0   81.0  28.73       95.0     76.0   \n",
       "2             0         0    245.0  127.5   80.0  25.34       75.0     70.0   \n",
       "3             1         0    225.0  150.0   95.0  28.58       65.0    103.0   \n",
       "4             0         0    285.0  130.0   84.0  23.10       85.0     85.0   \n",
       "\n",
       "   TenYearCHD  \n",
       "0           0  \n",
       "1           0  \n",
       "2           0  \n",
       "3           1  \n",
       "4           0  "
      ]
     },
     "execution_count": 110,
     "metadata": {},
     "output_type": "execute_result"
    }
   ],
   "source": [
    "df=pd.read_csv('C:/Users/SAJAN P MENON/Desktop/week-7-SL_classification/US_Heart_Patients.csv')\n",
    "df.head()"
   ]
  },
  {
   "cell_type": "code",
   "execution_count": 111,
   "metadata": {},
   "outputs": [
    {
     "name": "stdout",
     "output_type": "stream",
     "text": [
      "<class 'pandas.core.frame.DataFrame'>\n",
      "RangeIndex: 4240 entries, 0 to 4239\n",
      "Data columns (total 16 columns):\n",
      "male               4240 non-null int64\n",
      "age                4240 non-null int64\n",
      "education          4135 non-null float64\n",
      "currentSmoker      4240 non-null int64\n",
      "cigsPerDay         4211 non-null float64\n",
      "BPMeds             4187 non-null float64\n",
      "prevalentStroke    4240 non-null int64\n",
      "prevalentHyp       4240 non-null int64\n",
      "diabetes           4240 non-null int64\n",
      "totChol            4190 non-null float64\n",
      "sysBP              4240 non-null float64\n",
      "diaBP              4240 non-null float64\n",
      "BMI                4221 non-null float64\n",
      "heartRate          4239 non-null float64\n",
      "glucose            3852 non-null float64\n",
      "TenYearCHD         4240 non-null int64\n",
      "dtypes: float64(9), int64(7)\n",
      "memory usage: 530.1 KB\n"
     ]
    }
   ],
   "source": [
    "df.info()"
   ]
  },
  {
   "cell_type": "code",
   "execution_count": 112,
   "metadata": {},
   "outputs": [
    {
     "name": "stdout",
     "output_type": "stream",
     "text": [
      "<class 'pandas.core.frame.DataFrame'>\n",
      "Int64Index: 3658 entries, 0 to 4239\n",
      "Data columns (total 16 columns):\n",
      "male               3658 non-null int64\n",
      "age                3658 non-null int64\n",
      "education          3658 non-null float64\n",
      "currentSmoker      3658 non-null int64\n",
      "cigsPerDay         3658 non-null float64\n",
      "BPMeds             3658 non-null float64\n",
      "prevalentStroke    3658 non-null int64\n",
      "prevalentHyp       3658 non-null int64\n",
      "diabetes           3658 non-null int64\n",
      "totChol            3658 non-null float64\n",
      "sysBP              3658 non-null float64\n",
      "diaBP              3658 non-null float64\n",
      "BMI                3658 non-null float64\n",
      "heartRate          3658 non-null float64\n",
      "glucose            3658 non-null float64\n",
      "TenYearCHD         3658 non-null int64\n",
      "dtypes: float64(9), int64(7)\n",
      "memory usage: 485.8 KB\n"
     ]
    }
   ],
   "source": [
    "dfn=df.dropna()\n",
    "dfn.info()"
   ]
  },
  {
   "cell_type": "code",
   "execution_count": 113,
   "metadata": {},
   "outputs": [
    {
     "name": "stdout",
     "output_type": "stream",
     "text": [
      "male\n",
      "2\n",
      "\n",
      "age\n",
      "39\n",
      "\n",
      "education\n",
      "4\n",
      "\n",
      "currentSmoker\n",
      "2\n",
      "\n",
      "cigsPerDay\n",
      "33\n",
      "\n",
      "BPMeds\n",
      "2\n",
      "\n",
      "prevalentStroke\n",
      "2\n",
      "\n",
      "prevalentHyp\n",
      "2\n",
      "\n",
      "diabetes\n",
      "2\n",
      "\n",
      "totChol\n",
      "241\n",
      "\n",
      "sysBP\n",
      "231\n",
      "\n",
      "diaBP\n",
      "142\n",
      "\n",
      "BMI\n",
      "1298\n",
      "\n",
      "heartRate\n",
      "72\n",
      "\n",
      "glucose\n",
      "138\n",
      "\n",
      "TenYearCHD\n",
      "2\n",
      "\n"
     ]
    }
   ],
   "source": [
    "for i in dfn.columns:\n",
    "    print(i)\n",
    "    print(dfn[i].nunique())\n",
    "    print()"
   ]
  },
  {
   "cell_type": "code",
   "execution_count": 114,
   "metadata": {},
   "outputs": [],
   "source": [
    "lst=['male','education','currentSmoker','BPMeds','prevalentStroke','diabetes','prevalentHyp']\n",
    "df1=pd.get_dummies(dfn,columns=lst,drop_first=True)\n"
   ]
  },
  {
   "cell_type": "code",
   "execution_count": 115,
   "metadata": {},
   "outputs": [
    {
     "name": "stdout",
     "output_type": "stream",
     "text": [
      "age\n",
      "39\n",
      "\n",
      "cigsPerDay\n",
      "33\n",
      "\n",
      "totChol\n",
      "241\n",
      "\n",
      "sysBP\n",
      "231\n",
      "\n",
      "diaBP\n",
      "142\n",
      "\n",
      "BMI\n",
      "1298\n",
      "\n",
      "heartRate\n",
      "72\n",
      "\n",
      "glucose\n",
      "138\n",
      "\n",
      "TenYearCHD\n",
      "2\n",
      "\n",
      "male_1\n",
      "2\n",
      "\n",
      "education_2.0\n",
      "2\n",
      "\n",
      "education_3.0\n",
      "2\n",
      "\n",
      "education_4.0\n",
      "2\n",
      "\n",
      "currentSmoker_1\n",
      "2\n",
      "\n",
      "BPMeds_1.0\n",
      "2\n",
      "\n",
      "prevalentStroke_1\n",
      "2\n",
      "\n",
      "diabetes_1\n",
      "2\n",
      "\n",
      "prevalentHyp_1\n",
      "2\n",
      "\n"
     ]
    }
   ],
   "source": [
    "for i in df1.columns:\n",
    "    print(i)\n",
    "    print(df1[i].nunique())\n",
    "    print()"
   ]
  },
  {
   "cell_type": "code",
   "execution_count": 116,
   "metadata": {
    "scrolled": false
   },
   "outputs": [
    {
     "name": "stdout",
     "output_type": "stream",
     "text": [
      "<class 'pandas.core.frame.DataFrame'>\n",
      "Int64Index: 3658 entries, 0 to 4239\n",
      "Data columns (total 18 columns):\n",
      "age                  3658 non-null int64\n",
      "cigsPerDay           3658 non-null float64\n",
      "totChol              3658 non-null float64\n",
      "sysBP                3658 non-null float64\n",
      "diaBP                3658 non-null float64\n",
      "BMI                  3658 non-null float64\n",
      "heartRate            3658 non-null float64\n",
      "glucose              3658 non-null float64\n",
      "TenYearCHD           3658 non-null int64\n",
      "male_1               3658 non-null uint8\n",
      "education_2.0        3658 non-null uint8\n",
      "education_3.0        3658 non-null uint8\n",
      "education_4.0        3658 non-null uint8\n",
      "currentSmoker_1      3658 non-null uint8\n",
      "BPMeds_1.0           3658 non-null uint8\n",
      "prevalentStroke_1    3658 non-null uint8\n",
      "diabetes_1           3658 non-null uint8\n",
      "prevalentHyp_1       3658 non-null uint8\n",
      "dtypes: float64(7), int64(2), uint8(9)\n",
      "memory usage: 317.9 KB\n"
     ]
    }
   ],
   "source": [
    "df1.info()"
   ]
  },
  {
   "cell_type": "code",
   "execution_count": 117,
   "metadata": {},
   "outputs": [],
   "source": [
    "y=df1['TenYearCHD']\n",
    "X=df1.drop(columns=['TenYearCHD'],axis=1)"
   ]
  },
  {
   "cell_type": "code",
   "execution_count": 118,
   "metadata": {},
   "outputs": [],
   "source": [
    "from sklearn.linear_model import LogisticRegression\n",
    "from sklearn.tree import DecisionTreeClassifier\n",
    "lr=LogisticRegression()\n",
    "dt=DecisionTreeClassifier()"
   ]
  },
  {
   "cell_type": "code",
   "execution_count": 119,
   "metadata": {},
   "outputs": [
    {
     "data": {
      "text/plain": [
       "[('logistic_regression',\n",
       "  LogisticRegression(C=1.0, class_weight=None, dual=False, fit_intercept=True,\n",
       "                     intercept_scaling=1, l1_ratio=None, max_iter=100,\n",
       "                     multi_class='warn', n_jobs=None, penalty='l2',\n",
       "                     random_state=None, solver='warn', tol=0.0001, verbose=0,\n",
       "                     warm_start=False)),\n",
       " ('decission_tree',\n",
       "  DecisionTreeClassifier(class_weight=None, criterion='gini', max_depth=None,\n",
       "                         max_features=None, max_leaf_nodes=None,\n",
       "                         min_impurity_decrease=0.0, min_impurity_split=None,\n",
       "                         min_samples_leaf=1, min_samples_split=2,\n",
       "                         min_weight_fraction_leaf=0.0, presort=False,\n",
       "                         random_state=None, splitter='best'))]"
      ]
     },
     "execution_count": 119,
     "metadata": {},
     "output_type": "execute_result"
    }
   ],
   "source": [
    "models=[]\n",
    "models.append(('logistic_regression',lr))\n",
    "models.append(('decission_tree',dt))\n",
    "models"
   ]
  },
  {
   "cell_type": "code",
   "execution_count": 120,
   "metadata": {},
   "outputs": [],
   "source": [
    "from sklearn.model_selection import KFold\n",
    "from sklearn.model_selection import cross_val_score"
   ]
  },
  {
   "cell_type": "code",
   "execution_count": null,
   "metadata": {},
   "outputs": [],
   "source": []
  },
  {
   "cell_type": "code",
   "execution_count": 121,
   "metadata": {
    "scrolled": false
   },
   "outputs": [
    {
     "name": "stderr",
     "output_type": "stream",
     "text": [
      "C:\\sajan\\lib\\site-packages\\sklearn\\linear_model\\logistic.py:432: FutureWarning: Default solver will be changed to 'lbfgs' in 0.22. Specify a solver to silence this warning.\n",
      "  FutureWarning)\n",
      "C:\\sajan\\lib\\site-packages\\sklearn\\linear_model\\logistic.py:432: FutureWarning: Default solver will be changed to 'lbfgs' in 0.22. Specify a solver to silence this warning.\n",
      "  FutureWarning)\n",
      "C:\\sajan\\lib\\site-packages\\sklearn\\linear_model\\logistic.py:432: FutureWarning: Default solver will be changed to 'lbfgs' in 0.22. Specify a solver to silence this warning.\n",
      "  FutureWarning)\n",
      "C:\\sajan\\lib\\site-packages\\sklearn\\linear_model\\logistic.py:432: FutureWarning: Default solver will be changed to 'lbfgs' in 0.22. Specify a solver to silence this warning.\n",
      "  FutureWarning)\n",
      "C:\\sajan\\lib\\site-packages\\sklearn\\linear_model\\logistic.py:432: FutureWarning: Default solver will be changed to 'lbfgs' in 0.22. Specify a solver to silence this warning.\n",
      "  FutureWarning)\n",
      "C:\\sajan\\lib\\site-packages\\sklearn\\linear_model\\logistic.py:432: FutureWarning: Default solver will be changed to 'lbfgs' in 0.22. Specify a solver to silence this warning.\n",
      "  FutureWarning)\n",
      "C:\\sajan\\lib\\site-packages\\sklearn\\linear_model\\logistic.py:432: FutureWarning: Default solver will be changed to 'lbfgs' in 0.22. Specify a solver to silence this warning.\n",
      "  FutureWarning)\n",
      "C:\\sajan\\lib\\site-packages\\sklearn\\linear_model\\logistic.py:432: FutureWarning: Default solver will be changed to 'lbfgs' in 0.22. Specify a solver to silence this warning.\n",
      "  FutureWarning)\n",
      "C:\\sajan\\lib\\site-packages\\sklearn\\linear_model\\logistic.py:432: FutureWarning: Default solver will be changed to 'lbfgs' in 0.22. Specify a solver to silence this warning.\n",
      "  FutureWarning)\n",
      "C:\\sajan\\lib\\site-packages\\sklearn\\linear_model\\logistic.py:432: FutureWarning: Default solver will be changed to 'lbfgs' in 0.22. Specify a solver to silence this warning.\n",
      "  FutureWarning)\n"
     ]
    },
    {
     "name": "stdout",
     "output_type": "stream",
     "text": [
      "logistic_regression:0.725533 (0.001043)\n",
      "decission_tree:0.560407 (0.001080)\n"
     ]
    },
    {
     "data": {
      "image/png": "[encoded data removed]",
      "text/plain": [
       "<Figure size 432x288 with 1 Axes>"
      ]
     },
     "metadata": {
      "needs_background": "light"
     },
     "output_type": "display_data"
    }
   ],
   "source": [
    "results=[]\n",
    "names=[]\n",
    "\n",
    "for name,model in models:\n",
    "    kfold=KFold(shuffle=True,n_splits=10,random_state=1)\n",
    "    cv_results=cross_val_score(model,X,y,cv=kfold,scoring='roc_auc')  ## no need of train and test as kfold \n",
    "                                                                    ##internally will divide train and test for calculation.\n",
    "                                                                    # no of rows/(n_splits=10). 9 will be train, 1 will be test.\n",
    "                                                                    #.fit() and .predict happens internally.\n",
    "    results.append(cv_results)\n",
    "    names.append(name)\n",
    "    print(\"%s:%f (%f)\" % (name,np.mean(cv_results),np.var(cv_results,ddof=1)))  ##we have 10 auc scores. we are taking its average.\n",
    "    \n",
    "#boxplot algorithm comparison\n",
    "fig=plt.figure()\n",
    "fig.suptitle('algorithm comparison')\n",
    "ax=fig.add_subplot(111)\n",
    "plt.boxplot(results)\n",
    "plt.show()\n",
    "    "
   ]
  },
  {
   "cell_type": "markdown",
   "metadata": {},
   "source": [
    "inference:\n",
    "    we can see the spread of model 2 is more than spread of model 1.\n",
    "    median of model 1 is much higher than that of model 2 indication average auc score of model 1 is better than model 2."
   ]
  },
  {
   "cell_type": "code",
   "execution_count": 122,
   "metadata": {},
   "outputs": [
    {
     "data": {
      "text/plain": [
       "[array([0.74453523, 0.73392007, 0.67503675, 0.72323882, 0.71982571,\n",
       "        0.74217855, 0.69642569, 0.73525943, 0.69461171, 0.79029541]),\n",
       " array([0.53708616, 0.61504611, 0.55977462, 0.52282958, 0.52875817,\n",
       "        0.54710953, 0.55245902, 0.59591195, 0.541087  , 0.60400988])]"
      ]
     },
     "execution_count": 122,
     "metadata": {},
     "output_type": "execute_result"
    }
   ],
   "source": [
    "results    ##average of this results are taken into account as auc score. 1st array is logistic and second one is decission tree."
   ]
  },
  {
   "cell_type": "markdown",
   "metadata": {},
   "source": [
    "#we can see the variance of the decission tree model while using gini index.\n",
    "no same steps can be used for entropy. \n",
    "which ever gives very less variance is auc scores can be selected as the final hyperparameter."
   ]
  },
  {
   "cell_type": "code",
   "execution_count": 123,
   "metadata": {},
   "outputs": [
    {
     "ename": "NotFittedError",
     "evalue": "This DecisionTreeClassifier instance is not fitted yet. Call 'fit' with appropriate arguments before using this method.",
     "output_type": "error",
     "traceback": [
      "\u001b[1;31m---------------------------------------------------------------------------\u001b[0m",
      "\u001b[1;31mNotFittedError\u001b[0m                            Traceback (most recent call last)",
      "\u001b[1;32m<ipython-input-123-9cc52729b6b3>\u001b[0m in \u001b[0;36m<module>\u001b[1;34m\u001b[0m\n\u001b[1;32m----> 1\u001b[1;33m \u001b[0mdt\u001b[0m\u001b[1;33m.\u001b[0m\u001b[0mfeature_importances_\u001b[0m\u001b[1;33m\u001b[0m\u001b[1;33m\u001b[0m\u001b[0m\n\u001b[0m",
      "\u001b[1;32mC:\\sajan\\lib\\site-packages\\sklearn\\tree\\tree.py\u001b[0m in \u001b[0;36mfeature_importances_\u001b[1;34m(self)\u001b[0m\n\u001b[0;32m    523\u001b[0m         \u001b[0mfeature_importances_\u001b[0m \u001b[1;33m:\u001b[0m \u001b[0marray\u001b[0m\u001b[1;33m,\u001b[0m \u001b[0mshape\u001b[0m \u001b[1;33m=\u001b[0m \u001b[1;33m[\u001b[0m\u001b[0mn_features\u001b[0m\u001b[1;33m]\u001b[0m\u001b[1;33m\u001b[0m\u001b[1;33m\u001b[0m\u001b[0m\n\u001b[0;32m    524\u001b[0m         \"\"\"\n\u001b[1;32m--> 525\u001b[1;33m         \u001b[0mcheck_is_fitted\u001b[0m\u001b[1;33m(\u001b[0m\u001b[0mself\u001b[0m\u001b[1;33m,\u001b[0m \u001b[1;34m'tree_'\u001b[0m\u001b[1;33m)\u001b[0m\u001b[1;33m\u001b[0m\u001b[1;33m\u001b[0m\u001b[0m\n\u001b[0m\u001b[0;32m    526\u001b[0m \u001b[1;33m\u001b[0m\u001b[0m\n\u001b[0;32m    527\u001b[0m         \u001b[1;32mreturn\u001b[0m \u001b[0mself\u001b[0m\u001b[1;33m.\u001b[0m\u001b[0mtree_\u001b[0m\u001b[1;33m.\u001b[0m\u001b[0mcompute_feature_importances\u001b[0m\u001b[1;33m(\u001b[0m\u001b[1;33m)\u001b[0m\u001b[1;33m\u001b[0m\u001b[1;33m\u001b[0m\u001b[0m\n",
      "\u001b[1;32mC:\\sajan\\lib\\site-packages\\sklearn\\utils\\validation.py\u001b[0m in \u001b[0;36mcheck_is_fitted\u001b[1;34m(estimator, attributes, msg, all_or_any)\u001b[0m\n\u001b[0;32m    912\u001b[0m \u001b[1;33m\u001b[0m\u001b[0m\n\u001b[0;32m    913\u001b[0m     \u001b[1;32mif\u001b[0m \u001b[1;32mnot\u001b[0m \u001b[0mall_or_any\u001b[0m\u001b[1;33m(\u001b[0m\u001b[1;33m[\u001b[0m\u001b[0mhasattr\u001b[0m\u001b[1;33m(\u001b[0m\u001b[0mestimator\u001b[0m\u001b[1;33m,\u001b[0m \u001b[0mattr\u001b[0m\u001b[1;33m)\u001b[0m \u001b[1;32mfor\u001b[0m \u001b[0mattr\u001b[0m \u001b[1;32min\u001b[0m \u001b[0mattributes\u001b[0m\u001b[1;33m]\u001b[0m\u001b[1;33m)\u001b[0m\u001b[1;33m:\u001b[0m\u001b[1;33m\u001b[0m\u001b[1;33m\u001b[0m\u001b[0m\n\u001b[1;32m--> 914\u001b[1;33m         \u001b[1;32mraise\u001b[0m \u001b[0mNotFittedError\u001b[0m\u001b[1;33m(\u001b[0m\u001b[0mmsg\u001b[0m \u001b[1;33m%\u001b[0m \u001b[1;33m{\u001b[0m\u001b[1;34m'name'\u001b[0m\u001b[1;33m:\u001b[0m \u001b[0mtype\u001b[0m\u001b[1;33m(\u001b[0m\u001b[0mestimator\u001b[0m\u001b[1;33m)\u001b[0m\u001b[1;33m.\u001b[0m\u001b[0m__name__\u001b[0m\u001b[1;33m}\u001b[0m\u001b[1;33m)\u001b[0m\u001b[1;33m\u001b[0m\u001b[1;33m\u001b[0m\u001b[0m\n\u001b[0m\u001b[0;32m    915\u001b[0m \u001b[1;33m\u001b[0m\u001b[0m\n\u001b[0;32m    916\u001b[0m \u001b[1;33m\u001b[0m\u001b[0m\n",
      "\u001b[1;31mNotFittedError\u001b[0m: This DecisionTreeClassifier instance is not fitted yet. Call 'fit' with appropriate arguments before using this method."
     ]
    }
   ],
   "source": [
    "dt.feature_importances_"
   ]
  },
  {
   "cell_type": "code",
   "execution_count": null,
   "metadata": {},
   "outputs": [],
   "source": [
    "dt=DecisionTreeClassifier(criterion='entropy')\n",
    "dt.fit(X,y)"
   ]
  },
  {
   "cell_type": "code",
   "execution_count": null,
   "metadata": {},
   "outputs": [],
   "source": [
    "pd.DataFrame(dt.feature_importances_,index=X.columns)"
   ]
  },
  {
   "cell_type": "code",
   "execution_count": null,
   "metadata": {},
   "outputs": [],
   "source": [
    "5/8"
   ]
  },
  {
   "cell_type": "markdown",
   "metadata": {},
   "source": [
    "## doing regularization to understand the effect"
   ]
  },
  {
   "cell_type": "code",
   "execution_count": null,
   "metadata": {},
   "outputs": [],
   "source": [
    "from sklearn.linear_model import LogisticRegression\n",
    "from sklearn.tree import DecisionTreeClassifier\n",
    "lr=LogisticRegression()\n",
    "dt=DecisionTreeClassifier()\n",
    "dtr=DecisionTreeClassifier(criterion='entropy',max_depth=8,min_samples_split=2)   ##do randomsearch cv for best results.\n"
   ]
  },
  {
   "cell_type": "code",
   "execution_count": null,
   "metadata": {},
   "outputs": [],
   "source": [
    "models=[]\n",
    "models.append(('logistic_regression',lr))\n",
    "models.append(('decission_tree',dt))\n",
    "models.append(('regularized_dt',dtr))\n",
    "models"
   ]
  },
  {
   "cell_type": "code",
   "execution_count": null,
   "metadata": {},
   "outputs": [],
   "source": [
    "results=[]\n",
    "names=[]\n",
    "\n",
    "for name,model in models:\n",
    "    kfold=KFold(shuffle=True,n_splits=10,random_state=1)\n",
    "    cv_results=cross_val_score(model,X,y,cv=kfold,scoring='roc_auc')  ## no need of train and test as kfold \n",
    "                                                                    ##internally will divide train and test for calculation.\n",
    "                                                                    # no of rows/(n_splits=10). 9 will be train, 1 will be test.\n",
    "                                                                    #.fit() and .predict happens internally.\n",
    "    results.append(cv_results)\n",
    "    names.append(name)\n",
    "    print(\"%s:%f (%f)\" % (name,np.mean(cv_results),np.var(cv_results,ddof=1)))  ##we have 10 auc scores. we are taking its average.\n",
    "    \n",
    "#boxplot algorithm comparison\n",
    "fig=plt.figure()\n",
    "fig.suptitle('algorithm comparison')\n",
    "ax=fig.add_subplot(111)\n",
    "plt.boxplot(results)\n",
    "plt.show()\n",
    "    "
   ]
  },
  {
   "cell_type": "code",
   "execution_count": null,
   "metadata": {},
   "outputs": [],
   "source": []
  },
  {
   "cell_type": "markdown",
   "metadata": {},
   "source": [
    "# Random forrest"
   ]
  },
  {
   "cell_type": "code",
   "execution_count": null,
   "metadata": {},
   "outputs": [],
   "source": [
    "from sklearn.ensemble import RandomForestClassifier\n",
    "rf=RandomForestClassifier()\n",
    "\n",
    "from sklearn.linear_model import LogisticRegression\n",
    "from sklearn.tree import DecisionTreeClassifier\n",
    "lr=LogisticRegression()\n",
    "dt=DecisionTreeClassifier()\n",
    "dtr=DecisionTreeClassifier(criterion='entropy',max_depth=15,min_samples_split=2)   ##do randomsearch cv for best results.\n",
    "rf=RandomForestClassifier()\n"
   ]
  },
  {
   "cell_type": "code",
   "execution_count": null,
   "metadata": {},
   "outputs": [],
   "source": [
    "models=[]\n",
    "models.append(('logistic_regression',lr))\n",
    "models.append(('decission_tree',dt))\n",
    "models.append(('regularized_dt',dtr))\n",
    "models.append(('random_forrest',rf))"
   ]
  },
  {
   "cell_type": "code",
   "execution_count": null,
   "metadata": {},
   "outputs": [],
   "source": [
    "results=[]\n",
    "names=[]\n",
    "\n",
    "for name,model in models:\n",
    "    kfold=KFold(shuffle=True,n_splits=10,random_state=1)\n",
    "    cv_results=cross_val_score(model,X,y,cv=kfold,scoring='roc_auc')  ## no need of train and test as kfold \n",
    "                                                                    ##internally will divide train and test for calculation.\n",
    "                                                                    # no of rows/(n_splits=10). 9 will be train, 1 will be test.\n",
    "                                                                    #.fit() and .predict happens internally.\n",
    "                                                                    #always specify scoring='roc_auc'. by defaut its acuuracy.\n",
    "    results.append(cv_results)\n",
    "    names.append(name)\n",
    "    print(\"%s:%f (%f)\" % (name,np.mean(cv_results),np.var(cv_results,ddof=1)))  ##we have 10 auc scores. we are taking its average.\n",
    "    \n",
    "#boxplot algorithm comparison\n",
    "fig=plt.figure()\n",
    "fig.suptitle('algorithm comparison')\n",
    "ax=fig.add_subplot(111)\n",
    "plt.xlabel(names)\n",
    "plt.boxplot(results)\n",
    "plt.show()\n",
    "    "
   ]
  },
  {
   "cell_type": "markdown",
   "metadata": {},
   "source": [
    "inference\n",
    "we can see the variance accuracy has been increased from the regularized decission tree.\n",
    "variance of regularized decisison tree was (0.001753)\n",
    "it has reduced to .000742 in random forrest. hence we can say random forrest reduces variance error."
   ]
  },
  {
   "cell_type": "markdown",
   "metadata": {},
   "source": [
    "# new dataset - KNN"
   ]
  },
  {
   "cell_type": "code",
   "execution_count": null,
   "metadata": {},
   "outputs": [],
   "source": [
    "df=pd.read_csv('C:/Users/SAJAN P MENON/Desktop/week-8-USL_classification - Copy/inlass/day2/column_2C_weka-1.csv')"
   ]
  },
  {
   "cell_type": "code",
   "execution_count": null,
   "metadata": {},
   "outputs": [],
   "source": [
    "df.head()"
   ]
  },
  {
   "cell_type": "code",
   "execution_count": null,
   "metadata": {},
   "outputs": [],
   "source": [
    "df.shape"
   ]
  },
  {
   "cell_type": "code",
   "execution_count": null,
   "metadata": {},
   "outputs": [],
   "source": [
    "df.isnull().sum()"
   ]
  },
  {
   "cell_type": "code",
   "execution_count": null,
   "metadata": {},
   "outputs": [],
   "source": [
    "df.info()"
   ]
  },
  {
   "cell_type": "code",
   "execution_count": null,
   "metadata": {},
   "outputs": [],
   "source": [
    "df['class']=df['class'].replace({'Abnormal':0,'Normal':1})"
   ]
  },
  {
   "cell_type": "code",
   "execution_count": null,
   "metadata": {},
   "outputs": [],
   "source": [
    "df['class'].value_counts()"
   ]
  },
  {
   "cell_type": "code",
   "execution_count": null,
   "metadata": {},
   "outputs": [],
   "source": [
    "y=df['class']\n",
    "x=df.drop(columns='class',axis=1)\n",
    "\n",
    "from sklearn.neighbors import KNeighborsClassifier\n",
    "knn=KNeighborsClassifier()\n",
    "\n",
    "params={'n_neighbors':np.arange(1,50),\n",
    "    'weights':['uniform','distance']}\n",
    "\n",
    "from sklearn.model_selection import GridSearchCV\n",
    "gs=GridSearchCV(knn,param_grid=params,cv=10,scoring='roc_auc')\n",
    "gs.fit(x,y)"
   ]
  },
  {
   "cell_type": "code",
   "execution_count": null,
   "metadata": {},
   "outputs": [],
   "source": [
    "gs.best_params_"
   ]
  },
  {
   "cell_type": "code",
   "execution_count": null,
   "metadata": {},
   "outputs": [],
   "source": [
    "knn=KNeighborsClassifier({'n_neighbors': 21, 'weights': 'distance'})\n",
    "kfold=KFold(shuffle=True,n_splits=10,random_state=1)\n",
    "cv_results=cross_val_score(model,x,y,cv=kfold,scoring='roc_auc')  ## no need of train and test as kfold \n",
    "                                                                    ##internally will divide train and test for calculation.\n",
    "                                                                    # no of rows/(n_splits=10). 9 will be train, 1 will be test.\n",
    "                                                                    #.fit() and .predict happens internally.\n",
    "                                                                    #always specify scoring='roc_auc'. by defaut its acuuracy.\n",
    "result=cv_results"
   ]
  },
  {
   "cell_type": "code",
   "execution_count": 124,
   "metadata": {},
   "outputs": [
    {
     "data": {
      "image/png": "[encoded data removed]",
      "text/plain": [
       "<Figure size 432x288 with 1 Axes>"
      ]
     },
     "metadata": {
      "needs_background": "light"
     },
     "output_type": "display_data"
    }
   ],
   "source": [
    "sns.boxplot(y=result)\n",
    "plt.show()"
   ]
  },
  {
   "cell_type": "code",
   "execution_count": 125,
   "metadata": {},
   "outputs": [
    {
     "name": "stdout",
     "output_type": "stream",
     "text": [
      "0.8869037074037074\n",
      "0.003348787976307498\n"
     ]
    }
   ],
   "source": [
    "print(np.mean(result))\n",
    "print(np.var(result))"
   ]
  },
  {
   "cell_type": "code",
   "execution_count": null,
   "metadata": {},
   "outputs": [],
   "source": []
  },
  {
   "cell_type": "markdown",
   "metadata": {},
   "source": [
    "# -------------------------------------------------------------------------------------------------------------------------------------------------------------------------------------------------------------------------------"
   ]
  },
  {
   "cell_type": "markdown",
   "metadata": {},
   "source": [
    "# trying all algorithms and its bagging effect"
   ]
  },
  {
   "cell_type": "code",
   "execution_count": 214,
   "metadata": {},
   "outputs": [
    {
     "data": {
      "text/html": [
       "<div>\n",
       "<style scoped>\n",
       "    .dataframe tbody tr th:only-of-type {\n",
       "        vertical-align: middle;\n",
       "    }\n",
       "\n",
       "    .dataframe tbody tr th {\n",
       "        vertical-align: top;\n",
       "    }\n",
       "\n",
       "    .dataframe thead th {\n",
       "        text-align: right;\n",
       "    }\n",
       "</style>\n",
       "<table border=\"1\" class=\"dataframe\">\n",
       "  <thead>\n",
       "    <tr style=\"text-align: right;\">\n",
       "      <th></th>\n",
       "      <th>age</th>\n",
       "      <th>cigsPerDay</th>\n",
       "      <th>totChol</th>\n",
       "      <th>sysBP</th>\n",
       "      <th>diaBP</th>\n",
       "      <th>BMI</th>\n",
       "      <th>heartRate</th>\n",
       "      <th>glucose</th>\n",
       "      <th>TenYearCHD</th>\n",
       "      <th>male_1</th>\n",
       "      <th>education_2.0</th>\n",
       "      <th>education_3.0</th>\n",
       "      <th>education_4.0</th>\n",
       "      <th>currentSmoker_1</th>\n",
       "      <th>BPMeds_1.0</th>\n",
       "      <th>prevalentStroke_1</th>\n",
       "      <th>diabetes_1</th>\n",
       "      <th>prevalentHyp_1</th>\n",
       "    </tr>\n",
       "  </thead>\n",
       "  <tbody>\n",
       "    <tr>\n",
       "      <th>0</th>\n",
       "      <td>39</td>\n",
       "      <td>0.0</td>\n",
       "      <td>195.0</td>\n",
       "      <td>106.0</td>\n",
       "      <td>70.0</td>\n",
       "      <td>26.97</td>\n",
       "      <td>80.0</td>\n",
       "      <td>77.0</td>\n",
       "      <td>0</td>\n",
       "      <td>1</td>\n",
       "      <td>0</td>\n",
       "      <td>0</td>\n",
       "      <td>1</td>\n",
       "      <td>0</td>\n",
       "      <td>0</td>\n",
       "      <td>0</td>\n",
       "      <td>0</td>\n",
       "      <td>0</td>\n",
       "    </tr>\n",
       "    <tr>\n",
       "      <th>1</th>\n",
       "      <td>46</td>\n",
       "      <td>0.0</td>\n",
       "      <td>250.0</td>\n",
       "      <td>121.0</td>\n",
       "      <td>81.0</td>\n",
       "      <td>28.73</td>\n",
       "      <td>95.0</td>\n",
       "      <td>76.0</td>\n",
       "      <td>0</td>\n",
       "      <td>0</td>\n",
       "      <td>1</td>\n",
       "      <td>0</td>\n",
       "      <td>0</td>\n",
       "      <td>0</td>\n",
       "      <td>0</td>\n",
       "      <td>0</td>\n",
       "      <td>0</td>\n",
       "      <td>0</td>\n",
       "    </tr>\n",
       "    <tr>\n",
       "      <th>2</th>\n",
       "      <td>48</td>\n",
       "      <td>20.0</td>\n",
       "      <td>245.0</td>\n",
       "      <td>127.5</td>\n",
       "      <td>80.0</td>\n",
       "      <td>25.34</td>\n",
       "      <td>75.0</td>\n",
       "      <td>70.0</td>\n",
       "      <td>0</td>\n",
       "      <td>1</td>\n",
       "      <td>0</td>\n",
       "      <td>0</td>\n",
       "      <td>0</td>\n",
       "      <td>1</td>\n",
       "      <td>0</td>\n",
       "      <td>0</td>\n",
       "      <td>0</td>\n",
       "      <td>0</td>\n",
       "    </tr>\n",
       "    <tr>\n",
       "      <th>3</th>\n",
       "      <td>61</td>\n",
       "      <td>30.0</td>\n",
       "      <td>225.0</td>\n",
       "      <td>150.0</td>\n",
       "      <td>95.0</td>\n",
       "      <td>28.58</td>\n",
       "      <td>65.0</td>\n",
       "      <td>103.0</td>\n",
       "      <td>1</td>\n",
       "      <td>0</td>\n",
       "      <td>0</td>\n",
       "      <td>1</td>\n",
       "      <td>0</td>\n",
       "      <td>1</td>\n",
       "      <td>0</td>\n",
       "      <td>0</td>\n",
       "      <td>0</td>\n",
       "      <td>1</td>\n",
       "    </tr>\n",
       "    <tr>\n",
       "      <th>4</th>\n",
       "      <td>46</td>\n",
       "      <td>23.0</td>\n",
       "      <td>285.0</td>\n",
       "      <td>130.0</td>\n",
       "      <td>84.0</td>\n",
       "      <td>23.10</td>\n",
       "      <td>85.0</td>\n",
       "      <td>85.0</td>\n",
       "      <td>0</td>\n",
       "      <td>0</td>\n",
       "      <td>0</td>\n",
       "      <td>1</td>\n",
       "      <td>0</td>\n",
       "      <td>1</td>\n",
       "      <td>0</td>\n",
       "      <td>0</td>\n",
       "      <td>0</td>\n",
       "      <td>0</td>\n",
       "    </tr>\n",
       "  </tbody>\n",
       "</table>\n",
       "</div>"
      ],
      "text/plain": [
       "   age  cigsPerDay  totChol  sysBP  diaBP    BMI  heartRate  glucose  \\\n",
       "0   39         0.0    195.0  106.0   70.0  26.97       80.0     77.0   \n",
       "1   46         0.0    250.0  121.0   81.0  28.73       95.0     76.0   \n",
       "2   48        20.0    245.0  127.5   80.0  25.34       75.0     70.0   \n",
       "3   61        30.0    225.0  150.0   95.0  28.58       65.0    103.0   \n",
       "4   46        23.0    285.0  130.0   84.0  23.10       85.0     85.0   \n",
       "\n",
       "   TenYearCHD  male_1  education_2.0  education_3.0  education_4.0  \\\n",
       "0           0       1              0              0              1   \n",
       "1           0       0              1              0              0   \n",
       "2           0       1              0              0              0   \n",
       "3           1       0              0              1              0   \n",
       "4           0       0              0              1              0   \n",
       "\n",
       "   currentSmoker_1  BPMeds_1.0  prevalentStroke_1  diabetes_1  prevalentHyp_1  \n",
       "0                0           0                  0           0               0  \n",
       "1                0           0                  0           0               0  \n",
       "2                1           0                  0           0               0  \n",
       "3                1           0                  0           0               1  \n",
       "4                1           0                  0           0               0  "
      ]
     },
     "execution_count": 214,
     "metadata": {},
     "output_type": "execute_result"
    }
   ],
   "source": [
    "df1.head()"
   ]
  },
  {
   "cell_type": "code",
   "execution_count": 215,
   "metadata": {},
   "outputs": [
    {
     "name": "stdout",
     "output_type": "stream",
     "text": [
      "<class 'pandas.core.frame.DataFrame'>\n",
      "Int64Index: 3658 entries, 0 to 4239\n",
      "Data columns (total 18 columns):\n",
      "age                  3658 non-null int64\n",
      "cigsPerDay           3658 non-null float64\n",
      "totChol              3658 non-null float64\n",
      "sysBP                3658 non-null float64\n",
      "diaBP                3658 non-null float64\n",
      "BMI                  3658 non-null float64\n",
      "heartRate            3658 non-null float64\n",
      "glucose              3658 non-null float64\n",
      "TenYearCHD           3658 non-null int64\n",
      "male_1               3658 non-null uint8\n",
      "education_2.0        3658 non-null uint8\n",
      "education_3.0        3658 non-null uint8\n",
      "education_4.0        3658 non-null uint8\n",
      "currentSmoker_1      3658 non-null uint8\n",
      "BPMeds_1.0           3658 non-null uint8\n",
      "prevalentStroke_1    3658 non-null uint8\n",
      "diabetes_1           3658 non-null uint8\n",
      "prevalentHyp_1       3658 non-null uint8\n",
      "dtypes: float64(7), int64(2), uint8(9)\n",
      "memory usage: 317.9 KB\n"
     ]
    }
   ],
   "source": [
    "df1.info()"
   ]
  },
  {
   "cell_type": "code",
   "execution_count": 216,
   "metadata": {},
   "outputs": [],
   "source": [
    "y=df1['TenYearCHD']\n",
    "x=df1.drop(columns=['TenYearCHD'],axis=1)"
   ]
  },
  {
   "cell_type": "code",
   "execution_count": 217,
   "metadata": {},
   "outputs": [],
   "source": [
    "from sklearn.preprocessing import StandardScaler\n",
    "ss=StandardScaler()\n",
    "x_std=ss.fit_transform(x)\n",
    "y_std=y.copy()"
   ]
  },
  {
   "cell_type": "code",
   "execution_count": null,
   "metadata": {},
   "outputs": [],
   "source": []
  },
  {
   "cell_type": "markdown",
   "metadata": {},
   "source": [
    "\n",
    "    "
   ]
  },
  {
   "cell_type": "code",
   "execution_count": 218,
   "metadata": {},
   "outputs": [],
   "source": [
    "from sklearn.linear_model import LogisticRegression\n",
    "lr=LogisticRegression()\n",
    "\n"
   ]
  },
  {
   "cell_type": "code",
   "execution_count": 219,
   "metadata": {},
   "outputs": [],
   "source": [
    "from sklearn.naive_bayes import BernoulliNB\n",
    "nb=BernoulliNB()"
   ]
  },
  {
   "cell_type": "markdown",
   "metadata": {},
   "source": [
    "##### knn"
   ]
  },
  {
   "cell_type": "code",
   "execution_count": 220,
   "metadata": {},
   "outputs": [],
   "source": [
    "from sklearn.neighbors import KNeighborsClassifier\n",
    "knn=KNeighborsClassifier()"
   ]
  },
  {
   "cell_type": "code",
   "execution_count": 221,
   "metadata": {},
   "outputs": [
    {
     "data": {
      "text/plain": [
       "GridSearchCV(cv=5, error_score='raise-deprecating',\n",
       "             estimator=KNeighborsClassifier(algorithm='auto', leaf_size=30,\n",
       "                                            metric='minkowski',\n",
       "                                            metric_params=None, n_jobs=None,\n",
       "                                            n_neighbors=5, p=2,\n",
       "                                            weights='uniform'),\n",
       "             iid='warn', n_jobs=None,\n",
       "             param_grid={'n_neighbors': array([ 1,  2,  3,  4,  5,  6,  7,  8,  9, 10, 11, 12, 13, 14, 15, 16, 17,\n",
       "       18, 19, 20, 21, 22, 23, 24, 25, 26, 27, 28, 29, 30, 31, 32, 33, 34,\n",
       "       35, 36, 37, 38, 39, 40, 41, 42, 43, 44, 45, 46, 47, 48, 49, 50, 51,\n",
       "       52, 53, 54, 55, 56, 57, 58, 59, 60, 61, 62, 63, 64, 65, 66, 67, 68,\n",
       "       69, 70, 71, 72, 73, 74, 75, 76, 77, 78, 79, 80, 81, 82, 83, 84, 85,\n",
       "       86, 87, 88, 89, 90, 91, 92, 93, 94, 95, 96, 97, 98, 99]),\n",
       "                         'weights': ['uniform', 'distance']},\n",
       "             pre_dispatch='2*n_jobs', refit=True, return_train_score=False,\n",
       "             scoring='roc_auc', verbose=0)"
      ]
     },
     "execution_count": 221,
     "metadata": {},
     "output_type": "execute_result"
    }
   ],
   "source": [
    "params={'n_neighbors':np.arange(1,100),\n",
    "    'weights':['uniform','distance']}\n",
    "\n",
    "\n",
    "from sklearn.model_selection import GridSearchCV\n",
    "gs_knn=GridSearchCV(knn,param_grid=params,scoring='roc_auc',cv=5)\n",
    "gs_knn.fit(x_std,y_std)\n",
    "\n"
   ]
  },
  {
   "cell_type": "code",
   "execution_count": 222,
   "metadata": {},
   "outputs": [
    {
     "data": {
      "text/plain": [
       "{'n_neighbors': 98, 'weights': 'distance'}"
      ]
     },
     "execution_count": 222,
     "metadata": {},
     "output_type": "execute_result"
    }
   ],
   "source": [
    "gs_knn.best_params_"
   ]
  },
  {
   "cell_type": "markdown",
   "metadata": {},
   "source": [
    "##### DT"
   ]
  },
  {
   "cell_type": "code",
   "execution_count": 223,
   "metadata": {},
   "outputs": [
    {
     "data": {
      "text/plain": [
       "GridSearchCV(cv=5, error_score='raise-deprecating',\n",
       "             estimator=DecisionTreeClassifier(class_weight=None,\n",
       "                                              criterion='gini', max_depth=None,\n",
       "                                              max_features=None,\n",
       "                                              max_leaf_nodes=None,\n",
       "                                              min_impurity_decrease=0.0,\n",
       "                                              min_impurity_split=None,\n",
       "                                              min_samples_leaf=1,\n",
       "                                              min_samples_split=2,\n",
       "                                              min_weight_fraction_leaf=0.0,\n",
       "                                              presort=False, random_state=None,\n",
       "                                              splitter='best'),\n",
       "             iid='warn', n_jobs=None,\n",
       "             param_grid={'criterion': ['gini', 'entropy']},\n",
       "             pre_dispatch='2*n_jobs', refit=True, return_train_score=False,\n",
       "             scoring='roc_auc', verbose=0)"
      ]
     },
     "execution_count": 223,
     "metadata": {},
     "output_type": "execute_result"
    }
   ],
   "source": [
    "from sklearn.tree import DecisionTreeClassifier\n",
    "dt=DecisionTreeClassifier(criterion='gini',)\n",
    "\n",
    "\n",
    "params={'criterion':['gini','entropy'],}\n",
    "\n",
    "\n",
    "from sklearn.model_selection import GridSearchCV\n",
    "gs_dt=GridSearchCV(dt,param_grid=params,scoring='roc_auc',cv=5)\n",
    "gs_dt.fit(x_std,y_std)\n",
    "\n",
    "\n",
    "\n"
   ]
  },
  {
   "cell_type": "code",
   "execution_count": 224,
   "metadata": {},
   "outputs": [
    {
     "data": {
      "text/plain": [
       "{'criterion': 'gini'}"
      ]
     },
     "execution_count": 224,
     "metadata": {},
     "output_type": "execute_result"
    }
   ],
   "source": [
    "gs_dt.best_params_"
   ]
  },
  {
   "cell_type": "code",
   "execution_count": null,
   "metadata": {},
   "outputs": [],
   "source": []
  },
  {
   "cell_type": "markdown",
   "metadata": {},
   "source": [
    "##### RF"
   ]
  },
  {
   "cell_type": "code",
   "execution_count": 225,
   "metadata": {},
   "outputs": [
    {
     "data": {
      "text/plain": [
       "GridSearchCV(cv=5, error_score='raise-deprecating',\n",
       "             estimator=RandomForestClassifier(bootstrap=True, class_weight=None,\n",
       "                                              criterion='gini', max_depth=None,\n",
       "                                              max_features='auto',\n",
       "                                              max_leaf_nodes=None,\n",
       "                                              min_impurity_decrease=0.0,\n",
       "                                              min_impurity_split=None,\n",
       "                                              min_samples_leaf=1,\n",
       "                                              min_samples_split=2,\n",
       "                                              min_weight_fraction_leaf=0.0,\n",
       "                                              n_estimators='warn', n_jobs=None,\n",
       "                                              oob_score=False,\n",
       "                                              random_state=None, verbose=0,\n",
       "                                              warm_start=False),\n",
       "             iid='warn', n_jobs=None,\n",
       "             param_grid={'criterion': ['gini', 'entropy'],\n",
       "                         'n_estimators': array([ 1,  2,  3,  4,  5,  6,  7,  8,  9, 10, 11, 12, 13, 14, 15, 16, 17,\n",
       "       18, 19])},\n",
       "             pre_dispatch='2*n_jobs', refit=True, return_train_score=False,\n",
       "             scoring='roc_auc', verbose=0)"
      ]
     },
     "execution_count": 225,
     "metadata": {},
     "output_type": "execute_result"
    }
   ],
   "source": [
    "from sklearn.ensemble import RandomForestClassifier\n",
    "rf=RandomForestClassifier()\n",
    "\n",
    "\n",
    "params={'n_estimators':np.arange(1,20),'criterion':['gini','entropy']}\n",
    "\n",
    "\n",
    "from sklearn.model_selection import GridSearchCV\n",
    "gs_rf=GridSearchCV(rf,param_grid=params,scoring='roc_auc',cv=5)\n",
    "gs_rf.fit(x_std,y_std)\n",
    "\n",
    "\n",
    "\n"
   ]
  },
  {
   "cell_type": "code",
   "execution_count": 226,
   "metadata": {},
   "outputs": [
    {
     "data": {
      "text/plain": [
       "{'criterion': 'gini', 'n_estimators': 17}"
      ]
     },
     "execution_count": 226,
     "metadata": {},
     "output_type": "execute_result"
    }
   ],
   "source": [
    "gs_rf.best_params_"
   ]
  },
  {
   "cell_type": "markdown",
   "metadata": {},
   "source": [
    "# making bagging classifier for all the above models:"
   ]
  },
  {
   "cell_type": "code",
   "execution_count": 227,
   "metadata": {},
   "outputs": [],
   "source": [
    "lr=LogisticRegression()\n",
    "nb=BernoulliNB()\n",
    "knn=KNeighborsClassifier(**gs_knn.best_params_)\n",
    "dt=DecisionTreeClassifier(**gs_dt.best_params_)\n",
    "rf=RandomForestClassifier(**gs_rf.best_params_)\n",
    "\n",
    "\n",
    "from sklearn.ensemble import BaggingClassifier\n",
    "lr_bag=BaggingClassifier(base_estimator=lr,n_estimators=10)\n",
    "nb_bag=BaggingClassifier(base_estimator=nb,n_estimators=10)\n",
    "knn_bag=BaggingClassifier(base_estimator=knn,n_estimators=10)\n",
    "dt_bag=BaggingClassifier(base_estimator=dt,n_estimators=10)\n",
    "rf_bag=BaggingClassifier(base_estimator=rf,n_estimators=10)"
   ]
  },
  {
   "cell_type": "code",
   "execution_count": 228,
   "metadata": {},
   "outputs": [],
   "source": [
    "models=[]\n",
    "models.append(('logistic_regression',lr))  \n",
    "models.append(('Naive Bayes',nb))                    # #we need to scale the data before applying \n",
    "    \n",
    "models.append(('knn',knn))                         #we need to scale the data.\n",
    "models.append(('decission tree',dt))\n",
    "models.append(('rf',rf))\n",
    "\n",
    "models.append(('lr bagged',lr_bag))\n",
    "models.append(('nb bagged',nb_bag))\n",
    "models.append(('knn bagged',knn_bag))\n",
    "models.append(('dt bagged',dt_bag))\n",
    "models.append(('RF bagged',rf_bag))\n"
   ]
  },
  {
   "cell_type": "code",
   "execution_count": 229,
   "metadata": {
    "scrolled": false
   },
   "outputs": [
    {
     "name": "stdout",
     "output_type": "stream",
     "text": [
      "logistic_regression:0.731311 (0.001000)\n",
      "Naive Bayes:0.701377 (0.000744)\n",
      "knn:0.708677 (0.000705)\n",
      "decission tree:0.560020 (0.001116)\n",
      "rf:0.674102 (0.000476)\n",
      "lr bagged:0.731165 (0.000989)\n",
      "nb bagged:0.702195 (0.000664)\n",
      "knn bagged:0.709806 (0.000801)\n",
      "dt bagged:0.653098 (0.001985)\n",
      "RF bagged:0.706307 (0.000852)\n"
     ]
    },
    {
     "data": {
      "image/png": "[encoded data removed]",
      "text/plain": [
       "<Figure size 432x288 with 1 Axes>"
      ]
     },
     "metadata": {
      "needs_background": "light"
     },
     "output_type": "display_data"
    }
   ],
   "source": [
    "results=[]\n",
    "names=[]\n",
    "import warnings\n",
    "for name,model in models:\n",
    "    warnings.simplefilter('ignore')\n",
    "    kfold=KFold(shuffle=True,n_splits=10,random_state=1)\n",
    "    cv_results=cross_val_score(model,x_std,y_std,cv=kfold,scoring='roc_auc') \n",
    "    results.append(cv_results)\n",
    "    names.append(name)\n",
    "    print(\"%s:%f (%f)\" % (name,np.mean(cv_results),np.var(cv_results,ddof=1)))  ##we have 10 auc scores. we are taking its average.\n",
    "    \n",
    "#boxplot algorithm comparison\n",
    "\n",
    "fig=plt.figure()\n",
    "fig.suptitle('algorithm comparison')\n",
    "ax=fig.add_subplot(111)\n",
    "plt.xlabel(names)\n",
    "plt.boxplot(results)\n",
    "plt.show()"
   ]
  },
  {
   "cell_type": "markdown",
   "metadata": {},
   "source": [
    "### running and adding the results of algo which need scaled data"
   ]
  },
  {
   "cell_type": "code",
   "execution_count": null,
   "metadata": {},
   "outputs": [],
   "source": []
  },
  {
   "cell_type": "code",
   "execution_count": null,
   "metadata": {},
   "outputs": [],
   "source": []
  },
  {
   "cell_type": "markdown",
   "metadata": {},
   "source": [
    "# hypertuning for bagging classifier to find optimal n_estimator"
   ]
  },
  {
   "cell_type": "code",
   "execution_count": 230,
   "metadata": {},
   "outputs": [],
   "source": [
    "\n",
    "from sklearn.ensemble import BaggingClassifier\n",
    "lr_bag=BaggingClassifier(base_estimator=lr,n_estimators=10)\n",
    "nb_bag=BaggingClassifier(base_estimator=nb,n_estimators=10)\n",
    "knn_bag=BaggingClassifier(base_estimator=knn,n_estimators=10)\n",
    "dt_bag=BaggingClassifier(base_estimator=dt,n_estimators=10)\n",
    "rf_bag=BaggingClassifier(base_estimator=rf,n_estimators=10)"
   ]
  },
  {
   "cell_type": "code",
   "execution_count": 231,
   "metadata": {},
   "outputs": [
    {
     "data": {
      "text/plain": [
       "GridSearchCV(cv=5, error_score='raise-deprecating',\n",
       "             estimator=BaggingClassifier(base_estimator=LogisticRegression(C=1.0,\n",
       "                                                                           class_weight=None,\n",
       "                                                                           dual=False,\n",
       "                                                                           fit_intercept=True,\n",
       "                                                                           intercept_scaling=1,\n",
       "                                                                           l1_ratio=None,\n",
       "                                                                           max_iter=100,\n",
       "                                                                           multi_class='warn',\n",
       "                                                                           n_jobs=None,\n",
       "                                                                           penalty='l2',\n",
       "                                                                           random_state=None,\n",
       "                                                                           solver='warn',\n",
       "                                                                           tol=0.0001,\n",
       "                                                                           verbose=0,\n",
       "                                                                           warm_start=False),\n",
       "                                         bootstrap=True,\n",
       "                                         bootstr...\n",
       "                                         n_estimators=10, n_jobs=None,\n",
       "                                         oob_score=False, random_state=None,\n",
       "                                         verbose=0, warm_start=False),\n",
       "             iid='warn', n_jobs=None,\n",
       "             param_grid={'n_estimators': array([ 1,  2,  3,  4,  5,  6,  7,  8,  9, 10, 11, 12, 13, 14, 15, 16, 17,\n",
       "       18, 19, 20, 21, 22, 23, 24, 25, 26, 27, 28, 29, 30, 31, 32, 33, 34,\n",
       "       35, 36, 37, 38, 39, 40, 41, 42, 43, 44, 45, 46, 47, 48, 49])},\n",
       "             pre_dispatch='2*n_jobs', refit=True, return_train_score=False,\n",
       "             scoring='roc_auc', verbose=0)"
      ]
     },
     "execution_count": 231,
     "metadata": {},
     "output_type": "execute_result"
    }
   ],
   "source": [
    "from sklearn.model_selection import GridSearchCV\n",
    "params={'n_estimators':np.arange(1,50)}\n",
    "\n",
    "gs_lr_bag=GridSearchCV(lr_bag,param_grid=params,scoring='roc_auc',cv=5)\n",
    "gs_lr_bag.fit(x,y)"
   ]
  },
  {
   "cell_type": "code",
   "execution_count": 232,
   "metadata": {},
   "outputs": [
    {
     "data": {
      "text/plain": [
       "{'n_estimators': 13}"
      ]
     },
     "execution_count": 232,
     "metadata": {},
     "output_type": "execute_result"
    }
   ],
   "source": [
    "gs_lr_bag.best_params_"
   ]
  },
  {
   "cell_type": "markdown",
   "metadata": {},
   "source": [
    "inference:\n",
    "    this is based on roc_auc value. we can say when we use 34 estimators we get best roc_auc value. (this means less bias error)\n",
    "    but we do bagging to decrease the variance error . hence, folow the below method"
   ]
  },
  {
   "cell_type": "markdown",
   "metadata": {},
   "source": [
    "## method for finding optimal n_estimator for bagging"
   ]
  },
  {
   "cell_type": "markdown",
   "metadata": {},
   "source": [
    "we are trying to find the least variance out of 100 estimators. which number of estimators gives least variance. \n",
    "this is passed to lr_bag=BaggingClassifier(base_estimator=lr,n_estimators='value from the graph')"
   ]
  },
  {
   "cell_type": "code",
   "execution_count": 236,
   "metadata": {},
   "outputs": [],
   "source": [
    "auc_val=[]\n",
    "for val in range(1,100):\n",
    "    lr_bag=BaggingClassifier(base_estimator=lr,n_estimators=val)\n",
    "    result=cross_val_score(lr_bag,x_std,y_std,scoring='roc_auc',cv=5)\n",
    "    auc_val.append(np.var(result,ddof=1))"
   ]
  },
  {
   "cell_type": "code",
   "execution_count": 237,
   "metadata": {},
   "outputs": [
    {
     "data": {
      "image/png": "[encoded data removed]",
      "text/plain": [
       "<Figure size 432x288 with 1 Axes>"
      ]
     },
     "metadata": {
      "needs_background": "light"
     },
     "output_type": "display_data"
    }
   ],
   "source": [
    "n_estimator=np.arange(1,100)\n",
    "plt.plot(n_estimator,auc_val)\n",
    "plt.show()"
   ]
  },
  {
   "cell_type": "code",
   "execution_count": 238,
   "metadata": {},
   "outputs": [
    {
     "data": {
      "image/png": "[encoded data removed]",
      "text/plain": [
       "<Figure size 1800x432 with 1 Axes>"
      ]
     },
     "metadata": {
      "needs_background": "light"
     },
     "output_type": "display_data"
    }
   ],
   "source": [
    "plt.figure(figsize=(25,6))\n",
    "sns.lineplot(x=n_estimator,y=auc_val)\n",
    "plt.show()"
   ]
  },
  {
   "cell_type": "code",
   "execution_count": 239,
   "metadata": {},
   "outputs": [
    {
     "name": "stdout",
     "output_type": "stream",
     "text": [
      "0.0003081661494849728\n"
     ]
    }
   ],
   "source": [
    "print(min(auc_val))"
   ]
  },
  {
   "cell_type": "code",
   "execution_count": 240,
   "metadata": {},
   "outputs": [
    {
     "name": "stdout",
     "output_type": "stream",
     "text": [
      "8\n"
     ]
    }
   ],
   "source": [
    "print(np.argmin(auc_val))    #shows the position(index) of the minimum value. which means n_estimator=8\n",
    "                                #minimum gives the least variance error."
   ]
  },
  {
   "cell_type": "markdown",
   "metadata": {},
   "source": [
    "inference:\n",
    "    for logistic regression, n_estimators is 8. like this, we have to find for each model and then run bagging one more time to get the best model"
   ]
  },
  {
   "cell_type": "markdown",
   "metadata": {},
   "source": [
    "# boosting classifier (adaboost) for above classifiers"
   ]
  },
  {
   "cell_type": "code",
   "execution_count": 248,
   "metadata": {},
   "outputs": [],
   "source": [
    "lr=LogisticRegression()\n",
    "nb=BernoulliNB()\n",
    "knn=KNeighborsClassifier(**gs_knn.best_params_)\n",
    "dt=DecisionTreeClassifier(**gs_dt.best_params_)\n",
    "rf=RandomForestClassifier(**gs_rf.best_params_)\n",
    "\n",
    "#bagging classifiers\n",
    "from sklearn.ensemble import BaggingClassifier\n",
    "lr_bag=BaggingClassifier(base_estimator=lr,n_estimators=10)\n",
    "nb_bag=BaggingClassifier(base_estimator=nb,n_estimators=10)\n",
    "knn_bag=BaggingClassifier(base_estimator=knn,n_estimators=10)\n",
    "dt_bag=BaggingClassifier(base_estimator=dt,n_estimators=10)\n",
    "rf_bag=BaggingClassifier(base_estimator=rf,n_estimators=10)\n",
    "\n",
    "#boosting classifiers\n",
    "from sklearn.ensemble import AdaBoostClassifier\n",
    "lr_boost=AdaBoostClassifier(base_estimator=lr,n_estimators=10)\n",
    "nb_boost=AdaBoostClassifier(base_estimator=nb,n_estimators=10)\n",
    "knn_boost=AdaBoostClassifier(base_estimator=knn,n_estimators=10)\n",
    "dt_boost=AdaBoostClassifier(base_estimator=dt,n_estimators=10)\n",
    "rf_boost=AdaBoostClassifier(base_estimator=rf,n_estimators=10)\n",
    "\n"
   ]
  },
  {
   "cell_type": "code",
   "execution_count": 249,
   "metadata": {},
   "outputs": [],
   "source": [
    "models=[]\n",
    "models.append(('logistic_regression',lr))  \n",
    "models.append(('Naive Bayes',nb))                    # #we need to scale the data before applying \n",
    "models.append(('knn',knn))                         #we need to scale the data.\n",
    "models.append(('decission tree',dt))\n",
    "models.append(('rf',rf))\n",
    "\n",
    "models.append(('lr bagged',lr_bag))\n",
    "models.append(('nb bagged',nb_bag))\n",
    "models.append(('knn bagged',knn_bag))\n",
    "models.append(('dt bagged',dt_bag))\n",
    "models.append(('RF bagged',rf_bag))\n",
    "\n",
    "models.append(('lr boosted',lr_boost))\n",
    "models.append(('nb boosted',nb_boost))\n",
    "#models.append(('knn boosted',knn_boost))\n",
    "models.append(('dt boosted',dt_boost))\n",
    "models.append(('RF boosted',rf_boost))\n"
   ]
  },
  {
   "cell_type": "code",
   "execution_count": 250,
   "metadata": {},
   "outputs": [
    {
     "name": "stdout",
     "output_type": "stream",
     "text": [
      "logistic_regression:0.731311 (0.001000)\n",
      "Naive Bayes:0.701377 (0.000744)\n",
      "knn:0.708677 (0.000705)\n",
      "decission tree:0.549955 (0.000438)\n",
      "rf:0.663846 (0.001011)\n",
      "lr bagged:0.730122 (0.000916)\n",
      "nb bagged:0.701731 (0.000695)\n",
      "knn bagged:0.710755 (0.000641)\n",
      "dt bagged:0.660701 (0.001418)\n",
      "RF bagged:0.700563 (0.000732)\n",
      "lr boosted:0.732911 (0.001008)\n",
      "nb boosted:0.713171 (0.000599)\n",
      "dt boosted:0.555796 (0.001030)\n",
      "RF boosted:0.658215 (0.001279)\n"
     ]
    },
    {
     "data": {
      "image/png": "[encoded data removed]",
      "text/plain": [
       "<Figure size 432x288 with 1 Axes>"
      ]
     },
     "metadata": {
      "needs_background": "light"
     },
     "output_type": "display_data"
    }
   ],
   "source": [
    "results=[]\n",
    "names=[]\n",
    "import warnings\n",
    "for name,model in models:\n",
    "    warnings.simplefilter('ignore')\n",
    "    kfold=KFold(shuffle=True,n_splits=10,random_state=1)\n",
    "    cv_results=cross_val_score(model,x_std,y_std,cv=kfold,scoring='roc_auc') \n",
    "    results.append(cv_results)\n",
    "    names.append(name)\n",
    "    print(\"%s:%f (%f)\" % (name,np.mean(cv_results),np.var(cv_results,ddof=1)))  ##we have 10 auc scores. we are taking its average.\n",
    "    \n",
    "#boxplot algorithm comparison\n",
    "\n",
    "fig=plt.figure()\n",
    "fig.suptitle('algorithm comparison')\n",
    "ax=fig.add_subplot(111)\n",
    "plt.xlabel(names)\n",
    "plt.boxplot(results)\n",
    "plt.show()"
   ]
  },
  {
   "cell_type": "code",
   "execution_count": null,
   "metadata": {},
   "outputs": [],
   "source": []
  },
  {
   "cell_type": "markdown",
   "metadata": {},
   "source": [
    "# method for finding optimal n_estimator for boosting"
   ]
  },
  {
   "cell_type": "markdown",
   "metadata": {},
   "source": [
    "In boosting technique we know, it is trying to decrease the bias error, hence we take the mean of the cross_val_score results and we select the n_estimators which give highest mean. in bagging, we took least variance as bagging focusses on decreasing varinace error."
   ]
  },
  {
   "cell_type": "code",
   "execution_count": 253,
   "metadata": {},
   "outputs": [],
   "source": [
    "from sklearn.model_selection import KFold\n",
    "from sklearn.model_selection import cross_val_score\n",
    "auc_val=[]\n",
    "for val in range(1,100):\n",
    "    lr_boost=AdaBoostClassifier(base_estimator=lr,n_estimators=val)\n",
    "    result=cross_val_score(lr_boost,x_std,y_std,scoring='roc_auc',cv=5)\n",
    "    auc_val.append(np.mean(result))"
   ]
  },
  {
   "cell_type": "code",
   "execution_count": 254,
   "metadata": {},
   "outputs": [
    {
     "data": {
      "image/png": "[encoded data removed]",
      "text/plain": [
       "<Figure size 1800x432 with 1 Axes>"
      ]
     },
     "metadata": {
      "needs_background": "light"
     },
     "output_type": "display_data"
    }
   ],
   "source": [
    "plt.figure(figsize=(25,6))\n",
    "sns.lineplot(x=n_estimator,y=auc_val)\n",
    "plt.show()"
   ]
  },
  {
   "cell_type": "code",
   "execution_count": 255,
   "metadata": {},
   "outputs": [
    {
     "name": "stdout",
     "output_type": "stream",
     "text": [
      "9\n"
     ]
    }
   ],
   "source": [
    "print(np.argmax(auc_val))"
   ]
  },
  {
   "cell_type": "markdown",
   "metadata": {},
   "source": [
    "inference:\n",
    "    for logistic regression, n_estimators is 9. like this, we have to find for each model and then run boosting one more time to get the best model"
   ]
  },
  {
   "cell_type": "code",
   "execution_count": null,
   "metadata": {},
   "outputs": [],
   "source": []
  },
  {
   "cell_type": "markdown",
   "metadata": {},
   "source": [
    "# Gradient Boosting classifer: "
   ]
  },
  {
   "cell_type": "code",
   "execution_count": 256,
   "metadata": {},
   "outputs": [],
   "source": [
    "lr=LogisticRegression()\n",
    "nb=BernoulliNB()\n",
    "knn=KNeighborsClassifier(**gs_knn.best_params_)\n",
    "dt=DecisionTreeClassifier(**gs_dt.best_params_)\n",
    "rf=RandomForestClassifier(**gs_rf.best_params_)\n",
    "\n",
    "#bagging classifiers\n",
    "from sklearn.ensemble import BaggingClassifier\n",
    "lr_bag=BaggingClassifier(base_estimator=lr,n_estimators=10)\n",
    "nb_bag=BaggingClassifier(base_estimator=nb,n_estimators=10)\n",
    "knn_bag=BaggingClassifier(base_estimator=knn,n_estimators=10)\n",
    "dt_bag=BaggingClassifier(base_estimator=dt,n_estimators=10)\n",
    "rf_bag=BaggingClassifier(base_estimator=rf,n_estimators=10)\n",
    "\n",
    "#boosting classifiers\n",
    "from sklearn.ensemble import AdaBoostClassifier\n",
    "lr_boost=AdaBoostClassifier(base_estimator=lr,n_estimators=10)\n",
    "nb_boost=AdaBoostClassifier(base_estimator=nb,n_estimators=10)\n",
    "knn_boost=AdaBoostClassifier(base_estimator=knn,n_estimators=10)\n",
    "dt_boost=AdaBoostClassifier(base_estimator=dt,n_estimators=10)\n",
    "rf_boost=AdaBoostClassifier(base_estimator=rf,n_estimators=10)\n",
    "\n",
    "from sklearn.ensemble import GradientBoostingClassifier\n",
    "gboost=GradientBoostingClassifier()"
   ]
  },
  {
   "cell_type": "code",
   "execution_count": 257,
   "metadata": {},
   "outputs": [],
   "source": [
    "models=[]\n",
    "models.append(('logistic_regression',lr))  \n",
    "models.append(('Naive Bayes',nb))                    # #we need to scale the data before applying \n",
    "models.append(('knn',knn))                         #we need to scale the data.\n",
    "models.append(('decission tree',dt))\n",
    "models.append(('rf',rf))\n",
    "\n",
    "models.append(('lr bagged',lr_bag))\n",
    "models.append(('nb bagged',nb_bag))\n",
    "models.append(('knn bagged',knn_bag))\n",
    "models.append(('dt bagged',dt_bag))\n",
    "models.append(('RF bagged',rf_bag))\n",
    "\n",
    "models.append(('lr boosted',lr_boost))\n",
    "models.append(('nb boosted',nb_boost))\n",
    "#models.append(('knn boosted',knn_boost))\n",
    "models.append(('dt boosted',dt_boost))\n",
    "models.append(('RF boosted',rf_boost))\n",
    "models.append(('gradient boost',gboost))"
   ]
  },
  {
   "cell_type": "code",
   "execution_count": 258,
   "metadata": {},
   "outputs": [
    {
     "name": "stdout",
     "output_type": "stream",
     "text": [
      "logistic_regression:0.731311 (0.001000)\n",
      "Naive Bayes:0.701377 (0.000744)\n",
      "knn:0.708677 (0.000705)\n",
      "decission tree:0.556034 (0.001086)\n",
      "rf:0.676809 (0.000550)\n",
      "lr bagged:0.729412 (0.001000)\n",
      "nb bagged:0.700908 (0.000718)\n",
      "knn bagged:0.705504 (0.000856)\n",
      "dt bagged:0.651276 (0.001420)\n",
      "RF bagged:0.703474 (0.000856)\n",
      "lr boosted:0.732911 (0.001008)\n",
      "nb boosted:0.713171 (0.000599)\n",
      "dt boosted:0.564459 (0.001137)\n",
      "RF boosted:0.642367 (0.002213)\n",
      "gradient boost:0.705027 (0.000605)\n"
     ]
    },
    {
     "data": {
      "image/png": "[encoded data removed]",
      "text/plain": [
       "<Figure size 432x288 with 1 Axes>"
      ]
     },
     "metadata": {
      "needs_background": "light"
     },
     "output_type": "display_data"
    }
   ],
   "source": [
    "results=[]\n",
    "names=[]\n",
    "import warnings\n",
    "for name,model in models:\n",
    "    warnings.simplefilter('ignore')\n",
    "    kfold=KFold(shuffle=True,n_splits=10,random_state=1)\n",
    "    cv_results=cross_val_score(model,x_std,y_std,cv=kfold,scoring='roc_auc') \n",
    "    results.append(cv_results)\n",
    "    names.append(name)\n",
    "    print(\"%s:%f (%f)\" % (name,np.mean(cv_results),np.var(cv_results,ddof=1)))  ##we have 10 auc scores. we are taking its average.\n",
    "    \n",
    "#boxplot algorithm comparison\n",
    "\n",
    "fig=plt.figure()\n",
    "fig.suptitle('algorithm comparison')\n",
    "ax=fig.add_subplot(111)\n",
    "plt.xlabel(names)\n",
    "plt.boxplot(results)\n",
    "plt.show()"
   ]
  },
  {
   "cell_type": "code",
   "execution_count": null,
   "metadata": {},
   "outputs": [],
   "source": []
  },
  {
   "cell_type": "markdown",
   "metadata": {},
   "source": [
    "# finding optimal number of estimators for gradient boost"
   ]
  },
  {
   "cell_type": "markdown",
   "metadata": {},
   "source": [
    "oas this is boosting technique, bias error is focussed upon which has to be reduced. \n",
    "we take the mean of the cross_val_score results and we select the n_estimators which give highest mean."
   ]
  },
  {
   "cell_type": "code",
   "execution_count": 259,
   "metadata": {},
   "outputs": [],
   "source": [
    "auc_val=[]\n",
    "for val in range(1,100):\n",
    "    gboost=GradientBoostingClassifier(n_estimators=val)\n",
    "    result=cross_val_score(gboost,x_std,y_std,scoring='roc_auc',cv=5)\n",
    "    auc_val.append(np.mean(result))"
   ]
  },
  {
   "cell_type": "code",
   "execution_count": 260,
   "metadata": {},
   "outputs": [
    {
     "data": {
      "image/png": "[encoded data removed]",
      "text/plain": [
       "<Figure size 1800x432 with 1 Axes>"
      ]
     },
     "metadata": {
      "needs_background": "light"
     },
     "output_type": "display_data"
    }
   ],
   "source": [
    "plt.figure(figsize=(25,6))\n",
    "sns.lineplot(x=n_estimator,y=auc_val)\n",
    "plt.show()"
   ]
  },
  {
   "cell_type": "code",
   "execution_count": 261,
   "metadata": {},
   "outputs": [
    {
     "name": "stdout",
     "output_type": "stream",
     "text": [
      "22\n"
     ]
    }
   ],
   "source": [
    "print(np.argmax(auc_val))"
   ]
  },
  {
   "cell_type": "markdown",
   "metadata": {},
   "source": [
    "this optimal number of n_estimators should be passed as hyperparameter"
   ]
  },
  {
   "cell_type": "code",
   "execution_count": 262,
   "metadata": {},
   "outputs": [],
   "source": [
    "gboost=GradientBoostingClassifier(n_estimators=22)\n",
    "kfold=KFold(shuffle=True,n_splits=10,random_state=1)\n",
    "cv_results=cross_val_score(gboost,x_std,y_std,cv=kfold,scoring='roc_auc')"
   ]
  },
  {
   "cell_type": "code",
   "execution_count": 264,
   "metadata": {},
   "outputs": [
    {
     "data": {
      "text/plain": [
       "0.7185630724615356"
      ]
     },
     "execution_count": 264,
     "metadata": {},
     "output_type": "execute_result"
    }
   ],
   "source": [
    "cv_results.mean()"
   ]
  },
  {
   "cell_type": "code",
   "execution_count": 265,
   "metadata": {},
   "outputs": [
    {
     "data": {
      "text/plain": [
       "0.0006970250004995061"
      ]
     },
     "execution_count": 265,
     "metadata": {},
     "output_type": "execute_result"
    }
   ],
   "source": [
    "cv_results.var()"
   ]
  },
  {
   "cell_type": "code",
   "execution_count": null,
   "metadata": {},
   "outputs": [],
   "source": []
  },
  {
   "cell_type": "code",
   "execution_count": null,
   "metadata": {},
   "outputs": [],
   "source": []
  },
  {
   "cell_type": "code",
   "execution_count": null,
   "metadata": {},
   "outputs": [],
   "source": []
  },
  {
   "cell_type": "code",
   "execution_count": null,
   "metadata": {},
   "outputs": [],
   "source": []
  },
  {
   "cell_type": "code",
   "execution_count": null,
   "metadata": {},
   "outputs": [],
   "source": []
  },
  {
   "cell_type": "code",
   "execution_count": null,
   "metadata": {},
   "outputs": [],
   "source": []
  },
  {
   "cell_type": "markdown",
   "metadata": {},
   "source": [
    "# new dataset-IRIS- Naive Bayes classifier"
   ]
  },
  {
   "cell_type": "code",
   "execution_count": 78,
   "metadata": {},
   "outputs": [
    {
     "data": {
      "text/html": [
       "<div>\n",
       "<style scoped>\n",
       "    .dataframe tbody tr th:only-of-type {\n",
       "        vertical-align: middle;\n",
       "    }\n",
       "\n",
       "    .dataframe tbody tr th {\n",
       "        vertical-align: top;\n",
       "    }\n",
       "\n",
       "    .dataframe thead th {\n",
       "        text-align: right;\n",
       "    }\n",
       "</style>\n",
       "<table border=\"1\" class=\"dataframe\">\n",
       "  <thead>\n",
       "    <tr style=\"text-align: right;\">\n",
       "      <th></th>\n",
       "      <th>sepal_length</th>\n",
       "      <th>sepal_width</th>\n",
       "      <th>petal_length</th>\n",
       "      <th>petal_width</th>\n",
       "      <th>species</th>\n",
       "    </tr>\n",
       "  </thead>\n",
       "  <tbody>\n",
       "    <tr>\n",
       "      <th>0</th>\n",
       "      <td>5.1</td>\n",
       "      <td>3.5</td>\n",
       "      <td>1.4</td>\n",
       "      <td>0.2</td>\n",
       "      <td>setosa</td>\n",
       "    </tr>\n",
       "    <tr>\n",
       "      <th>1</th>\n",
       "      <td>4.9</td>\n",
       "      <td>3.0</td>\n",
       "      <td>1.4</td>\n",
       "      <td>0.2</td>\n",
       "      <td>setosa</td>\n",
       "    </tr>\n",
       "    <tr>\n",
       "      <th>2</th>\n",
       "      <td>4.7</td>\n",
       "      <td>3.2</td>\n",
       "      <td>1.3</td>\n",
       "      <td>0.2</td>\n",
       "      <td>setosa</td>\n",
       "    </tr>\n",
       "    <tr>\n",
       "      <th>3</th>\n",
       "      <td>4.6</td>\n",
       "      <td>3.1</td>\n",
       "      <td>1.5</td>\n",
       "      <td>0.2</td>\n",
       "      <td>setosa</td>\n",
       "    </tr>\n",
       "    <tr>\n",
       "      <th>4</th>\n",
       "      <td>5.0</td>\n",
       "      <td>3.6</td>\n",
       "      <td>1.4</td>\n",
       "      <td>0.2</td>\n",
       "      <td>setosa</td>\n",
       "    </tr>\n",
       "  </tbody>\n",
       "</table>\n",
       "</div>"
      ],
      "text/plain": [
       "   sepal_length  sepal_width  petal_length  petal_width species\n",
       "0           5.1          3.5           1.4          0.2  setosa\n",
       "1           4.9          3.0           1.4          0.2  setosa\n",
       "2           4.7          3.2           1.3          0.2  setosa\n",
       "3           4.6          3.1           1.5          0.2  setosa\n",
       "4           5.0          3.6           1.4          0.2  setosa"
      ]
     },
     "execution_count": 78,
     "metadata": {},
     "output_type": "execute_result"
    }
   ],
   "source": [
    "df=sns.load_dataset(name='iris')\n",
    "df.head()"
   ]
  },
  {
   "cell_type": "code",
   "execution_count": 79,
   "metadata": {},
   "outputs": [
    {
     "data": {
      "text/plain": [
       "(150, 5)"
      ]
     },
     "execution_count": 79,
     "metadata": {},
     "output_type": "execute_result"
    }
   ],
   "source": [
    "df.shape"
   ]
  },
  {
   "cell_type": "code",
   "execution_count": 80,
   "metadata": {},
   "outputs": [
    {
     "name": "stdout",
     "output_type": "stream",
     "text": [
      "<class 'pandas.core.frame.DataFrame'>\n",
      "RangeIndex: 150 entries, 0 to 149\n",
      "Data columns (total 5 columns):\n",
      "sepal_length    150 non-null float64\n",
      "sepal_width     150 non-null float64\n",
      "petal_length    150 non-null float64\n",
      "petal_width     150 non-null float64\n",
      "species         150 non-null object\n",
      "dtypes: float64(4), object(1)\n",
      "memory usage: 5.9+ KB\n"
     ]
    }
   ],
   "source": [
    "df.info()"
   ]
  },
  {
   "cell_type": "code",
   "execution_count": 81,
   "metadata": {},
   "outputs": [
    {
     "data": {
      "text/plain": [
       "setosa        50\n",
       "versicolor    50\n",
       "virginica     50\n",
       "Name: species, dtype: int64"
      ]
     },
     "execution_count": 81,
     "metadata": {},
     "output_type": "execute_result"
    }
   ],
   "source": [
    "df['species'].value_counts()"
   ]
  },
  {
   "cell_type": "code",
   "execution_count": 90,
   "metadata": {},
   "outputs": [],
   "source": [
    "df['species']=df['species'].replace({'setosa':0,'versicolor':1,'virginica':2})"
   ]
  },
  {
   "cell_type": "code",
   "execution_count": 103,
   "metadata": {},
   "outputs": [
    {
     "data": {
      "image/png": "[encoded data removed]",
      "text/plain": [
       "<Figure size 432x288 with 1 Axes>"
      ]
     },
     "metadata": {
      "needs_background": "light"
     },
     "output_type": "display_data"
    }
   ],
   "source": [
    "df[df['species']==0]['sepal_width'].plot(kind='kde')\n",
    "\n",
    "df[df['species']==1]['sepal_width'].plot(kind='kde')\n",
    "\n",
    "df[df['species']==2]['sepal_width'].plot(kind='kde')\n",
    "plt.show()"
   ]
  },
  {
   "cell_type": "code",
   "execution_count": null,
   "metadata": {},
   "outputs": [],
   "source": []
  },
  {
   "cell_type": "code",
   "execution_count": null,
   "metadata": {},
   "outputs": [],
   "source": []
  },
  {
   "cell_type": "code",
   "execution_count": null,
   "metadata": {},
   "outputs": [],
   "source": [
    "kfold=KFold(shuffle=True,n_splits=10,random_state=1)\n",
    "cv_results=cross_val_score(model,X,y,cv=kfold,scoring='roc_auc')"
   ]
  },
  {
   "cell_type": "code",
   "execution_count": null,
   "metadata": {},
   "outputs": [],
   "source": []
  },
  {
   "cell_type": "code",
   "execution_count": null,
   "metadata": {},
   "outputs": [],
   "source": []
  },
  {
   "cell_type": "code",
   "execution_count": null,
   "metadata": {},
   "outputs": [],
   "source": []
  },
  {
   "cell_type": "code",
   "execution_count": null,
   "metadata": {},
   "outputs": [],
   "source": []
  }
 ],
 "metadata": {
  "kernelspec": {
   "display_name": "Python 3",
   "language": "python",
   "name": "python3"
  },
  "language_info": {
   "codemirror_mode": {
    "name": "ipython",
    "version": 3
   },
   "file_extension": ".py",
   "mimetype": "text/x-python",
   "name": "python",
   "nbconvert_exporter": "python",
   "pygments_lexer": "ipython3",
   "version": "3.7.3"
  }
 },
 "nbformat": 4,
 "nbformat_minor": 2
}
